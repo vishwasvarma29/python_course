{
  "nbformat": 4,
  "nbformat_minor": 0,
  "metadata": {
    "colab": {
      "provenance": [],
      "authorship_tag": "ABX9TyOZUkPQ73wQGoJyW5j9rWFl",
      "include_colab_link": true
    },
    "kernelspec": {
      "name": "python3",
      "display_name": "Python 3"
    },
    "language_info": {
      "name": "python"
    }
  },
  "cells": [
    {
      "cell_type": "markdown",
      "metadata": {
        "id": "view-in-github",
        "colab_type": "text"
      },
      "source": [
        "<a href=\"https://colab.research.google.com/github/vishwasvarma29/python_course/blob/main/numpy.ipynb\" target=\"_parent\"><img src=\"https://colab.research.google.com/assets/colab-badge.svg\" alt=\"Open In Colab\"/></a>"
      ]
    },
    {
      "cell_type": "code",
      "execution_count": 1,
      "metadata": {
        "colab": {
          "base_uri": "https://localhost:8080/"
        },
        "id": "2IAOida7voot",
        "outputId": "2f64f156-33b6-4779-c988-0ca8323dfb4e"
      },
      "outputs": [
        {
          "output_type": "stream",
          "name": "stdout",
          "text": [
            "[1 2 3 4 5]\n",
            "[[1 2 3]\n",
            " [4 5 6]]\n",
            "[[[1 2]\n",
            "  [3 4]]\n",
            "\n",
            " [[5 6]\n",
            "  [7 8]]]\n"
          ]
        }
      ],
      "source": [
        "import numpy as np\n",
        "# 1D array\n",
        "arr1 = np.array([1, 2, 3, 4, 5])\n",
        "print(arr1)\n",
        "# 2D array\n",
        "arr2 = np.array([[1, 2, 3], [4, 5, 6]])\n",
        "print(arr2)\n",
        "# 3D array\n",
        "arr3 = np.array([[[1, 2], [3, 4]], [[5, 6], [7, 8]]])\n",
        "print(arr3)"
      ]
    }
  ]
}