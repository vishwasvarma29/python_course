{
  "nbformat": 4,
  "nbformat_minor": 0,
  "metadata": {
    "colab": {
      "provenance": [],
      "authorship_tag": "ABX9TyM0iw0Z0/BFPNqwygW4l22u",
      "include_colab_link": true
    },
    "kernelspec": {
      "name": "python3",
      "display_name": "Python 3"
    },
    "language_info": {
      "name": "python"
    }
  },
  "cells": [
    {
      "cell_type": "markdown",
      "metadata": {
        "id": "view-in-github",
        "colab_type": "text"
      },
      "source": [
        "<a href=\"https://colab.research.google.com/github/vishwasvarma29/python_course/blob/main/numpy.ipynb\" target=\"_parent\"><img src=\"https://colab.research.google.com/assets/colab-badge.svg\" alt=\"Open In Colab\"/></a>"
      ]
    },
    {
      "cell_type": "code",
      "execution_count": 1,
      "metadata": {
        "colab": {
          "base_uri": "https://localhost:8080/"
        },
        "id": "2IAOida7voot",
        "outputId": "2f64f156-33b6-4779-c988-0ca8323dfb4e"
      },
      "outputs": [
        {
          "output_type": "stream",
          "name": "stdout",
          "text": [
            "[1 2 3 4 5]\n",
            "[[1 2 3]\n",
            " [4 5 6]]\n",
            "[[[1 2]\n",
            "  [3 4]]\n",
            "\n",
            " [[5 6]\n",
            "  [7 8]]]\n"
          ]
        }
      ],
      "source": [
        "import numpy as np\n",
        "# 1D array\n",
        "arr1 = np.array([1, 2, 3, 4, 5])\n",
        "print(arr1)\n",
        "# 2D array\n",
        "arr2 = np.array([[1, 2, 3], [4, 5, 6]])\n",
        "print(arr2)\n",
        "# 3D array\n",
        "arr3 = np.array([[[1, 2], [3, 4]], [[5, 6], [7, 8]]])\n",
        "print(arr3)"
      ]
    },
    {
      "cell_type": "code",
      "source": [
        "ones = np.ones((6,4))\n",
        "print(ones)"
      ],
      "metadata": {
        "colab": {
          "base_uri": "https://localhost:8080/"
        },
        "id": "eLNt5XYQwwxI",
        "outputId": "87c3d978-fa91-4be8-9930-31bcc2d9277e"
      },
      "execution_count": 2,
      "outputs": [
        {
          "output_type": "stream",
          "name": "stdout",
          "text": [
            "[[1. 1. 1. 1.]\n",
            " [1. 1. 1. 1.]\n",
            " [1. 1. 1. 1.]\n",
            " [1. 1. 1. 1.]\n",
            " [1. 1. 1. 1.]\n",
            " [1. 1. 1. 1.]]\n"
          ]
        }
      ]
    },
    {
      "cell_type": "code",
      "source": [
        "identity = np.eye(6)\n",
        "print(identity)"
      ],
      "metadata": {
        "colab": {
          "base_uri": "https://localhost:8080/"
        },
        "id": "NOpaEcb_xAqV",
        "outputId": "80cc8463-0798-4f58-cc71-6d2ea30cd429"
      },
      "execution_count": 3,
      "outputs": [
        {
          "output_type": "stream",
          "name": "stdout",
          "text": [
            "[[1. 0. 0. 0. 0. 0.]\n",
            " [0. 1. 0. 0. 0. 0.]\n",
            " [0. 0. 1. 0. 0. 0.]\n",
            " [0. 0. 0. 1. 0. 0.]\n",
            " [0. 0. 0. 0. 1. 0.]\n",
            " [0. 0. 0. 0. 0. 1.]]\n"
          ]
        }
      ]
    },
    {
      "cell_type": "code",
      "source": [
        "full_array = np.full((5,9),False)\n",
        "print(full_array)"
      ],
      "metadata": {
        "colab": {
          "base_uri": "https://localhost:8080/"
        },
        "id": "oZtBb6SgxMv3",
        "outputId": "bb1e1b2e-aa40-498e-b62b-2794034f2a7a"
      },
      "execution_count": 6,
      "outputs": [
        {
          "output_type": "stream",
          "name": "stdout",
          "text": [
            "[[False False False False False False False False False]\n",
            " [False False False False False False False False False]\n",
            " [False False False False False False False False False]\n",
            " [False False False False False False False False False]\n",
            " [False False False False False False False False False]]\n"
          ]
        }
      ]
    },
    {
      "cell_type": "code",
      "source": [
        "range_arr = np.arange(2, 101, 2)\n",
        "print(range_arr)"
      ],
      "metadata": {
        "colab": {
          "base_uri": "https://localhost:8080/"
        },
        "id": "HvUwLzT9x6tv",
        "outputId": "4c998888-5c16-4194-b6ea-eef7f69d8212"
      },
      "execution_count": 8,
      "outputs": [
        {
          "output_type": "stream",
          "name": "stdout",
          "text": [
            "[  2   4   6   8  10  12  14  16  18  20  22  24  26  28  30  32  34  36\n",
            "  38  40  42  44  46  48  50  52  54  56  58  60  62  64  66  68  70  72\n",
            "  74  76  78  80  82  84  86  88  90  92  94  96  98 100]\n"
          ]
        }
      ]
    },
    {
      "cell_type": "code",
      "source": [
        "lin_space = np.linspace(1, 10, 5)\n",
        "print(lin_space)"
      ],
      "metadata": {
        "colab": {
          "base_uri": "https://localhost:8080/"
        },
        "id": "I0qj0aj9yiei",
        "outputId": "6916949f-add5-4ab4-dace-bed51d93fa95"
      },
      "execution_count": 10,
      "outputs": [
        {
          "output_type": "stream",
          "name": "stdout",
          "text": [
            "[ 1.    3.25  5.5   7.75 10.  ]\n"
          ]
        }
      ]
    },
    {
      "cell_type": "code",
      "source": [
        "rand_int= np. random.randint(1, 10, (1, 30))\n",
        "print(rand_int)"
      ],
      "metadata": {
        "colab": {
          "base_uri": "https://localhost:8080/"
        },
        "id": "SJvoIG5qzMfX",
        "outputId": "2c814e25-555e-4fdf-976a-3e861e75113d"
      },
      "execution_count": 11,
      "outputs": [
        {
          "output_type": "stream",
          "name": "stdout",
          "text": [
            "[[6 6 9 3 1 1 4 9 9 2 2 8 9 5 1 7 2 8 6 8 1 5 6 4 5 6 6 1 7 9]]\n"
          ]
        }
      ]
    },
    {
      "cell_type": "code",
      "source": [
        "rand_float = np.random.rand(6,2)\n",
        "print(rand_float)"
      ],
      "metadata": {
        "colab": {
          "base_uri": "https://localhost:8080/"
        },
        "id": "wzltU0510l9z",
        "outputId": "46620353-34d3-47fd-d313-f3356b08bbc1"
      },
      "execution_count": 14,
      "outputs": [
        {
          "output_type": "stream",
          "name": "stdout",
          "text": [
            "[[0.6515369  0.43089822]\n",
            " [0.40273293 0.94681551]\n",
            " [0.81408051 0.00820652]\n",
            " [0.82130063 0.19876968]\n",
            " [0.86478671 0.65296157]\n",
            " [0.19705475 0.04804255]]\n"
          ]
        }
      ]
    },
    {
      "cell_type": "code",
      "source": [
        "rand_norm = np.random.randn(4,5)\n",
        "print(rand_norm)"
      ],
      "metadata": {
        "colab": {
          "base_uri": "https://localhost:8080/"
        },
        "id": "uj441OVZ1ZDH",
        "outputId": "7f88b93c-7de1-42f5-83ff-0b1b2f50f521"
      },
      "execution_count": 18,
      "outputs": [
        {
          "output_type": "stream",
          "name": "stdout",
          "text": [
            "[[-0.48019135 -0.15804749 -0.10749126  0.62921544  0.47567173]\n",
            " [-1.25944836  1.40250572  0.34306336  1.33324229  1.20316686]\n",
            " [-0.11864568  0.51695482 -0.60992703  0.72983864  0.34190701]\n",
            " [-0.76101779  2.30220081  0.93844273  0.7438408  -0.02789554]]\n"
          ]
        }
      ]
    },
    {
      "cell_type": "code",
      "source": [
        "rand_choice=np.random.choice(['vishwas','goutham','nikhil','abhi'],6)\n",
        "print(rand_choice)"
      ],
      "metadata": {
        "colab": {
          "base_uri": "https://localhost:8080/"
        },
        "id": "9P-A1iJp2bhP",
        "outputId": "7a879201-f561-460c-8d65-c6fc2483dfcb"
      },
      "execution_count": 22,
      "outputs": [
        {
          "output_type": "stream",
          "name": "stdout",
          "text": [
            "['goutham' 'abhi' 'nikhil' 'vishwas' 'vishwas' 'abhi']\n"
          ]
        }
      ]
    },
    {
      "cell_type": "code",
      "source": [
        "np.random.seed(42)\n",
        "rand_arr=np.random.randint(6)\n",
        "print(rand_arr)"
      ],
      "metadata": {
        "colab": {
          "base_uri": "https://localhost:8080/"
        },
        "id": "oeTckwFB27bh",
        "outputId": "045832d3-10d5-4537-8d47-47cd63a50fe7"
      },
      "execution_count": 23,
      "outputs": [
        {
          "output_type": "stream",
          "name": "stdout",
          "text": [
            "3\n"
          ]
        }
      ]
    },
    {
      "cell_type": "code",
      "source": [
        "arr=np.array([[1, 2], [4, 5],[6,7],[8,9]])\n",
        "print(arr.shape)"
      ],
      "metadata": {
        "colab": {
          "base_uri": "https://localhost:8080/"
        },
        "id": "sJ4rL2TP3177",
        "outputId": "6385359c-e86a-42af-999c-3ac03aa0111c"
      },
      "execution_count": 33,
      "outputs": [
        {
          "output_type": "stream",
          "name": "stdout",
          "text": [
            "(4, 2)\n"
          ]
        }
      ]
    },
    {
      "cell_type": "code",
      "source": [
        "reshaped=arr.reshape(1,8)\n",
        "print(reshaped)"
      ],
      "metadata": {
        "colab": {
          "base_uri": "https://localhost:8080/"
        },
        "id": "dlB3zH-l4yPT",
        "outputId": "dd8c35e0-4954-4058-e12d-056a4b669a0a"
      },
      "execution_count": 35,
      "outputs": [
        {
          "output_type": "stream",
          "name": "stdout",
          "text": [
            "[[1 2 4 5 6 7 8 9]]\n"
          ]
        }
      ]
    },
    {
      "cell_type": "code",
      "source": [
        "flattened=arr.flatten()\n",
        "print(flattened)"
      ],
      "metadata": {
        "colab": {
          "base_uri": "https://localhost:8080/"
        },
        "id": "SyDTiGwQ6VQx",
        "outputId": "7191c875-8ab3-41d9-d0df-d910cc50cf3d"
      },
      "execution_count": 36,
      "outputs": [
        {
          "output_type": "stream",
          "name": "stdout",
          "text": [
            "[1 2 4 5 6 7 8 9]\n"
          ]
        }
      ]
    },
    {
      "cell_type": "code",
      "source": [
        "transposed=arr.T\n",
        "print(transposed)"
      ],
      "metadata": {
        "colab": {
          "base_uri": "https://localhost:8080/"
        },
        "id": "1TbJA3ic68la",
        "outputId": "57d3f3f4-8e1b-4a3b-9ed0-8702048a23d3"
      },
      "execution_count": 37,
      "outputs": [
        {
          "output_type": "stream",
          "name": "stdout",
          "text": [
            "[[1 4 6 8]\n",
            " [2 5 7 9]]\n"
          ]
        }
      ]
    },
    {
      "cell_type": "code",
      "source": [
        "arr=np.array([10, 20, 30, 40, 50])\n",
        "print(arr[0])\n",
        "print(arr[-1])\n",
        "print(arr[1:4])\n",
        "print(arr[:3])\n",
        "print(arr[::2])\n"
      ],
      "metadata": {
        "colab": {
          "base_uri": "https://localhost:8080/"
        },
        "id": "bQGPhMGS7Plx",
        "outputId": "5cdf700c-864d-4832-f5a5-d811f153bd71"
      },
      "execution_count": 38,
      "outputs": [
        {
          "output_type": "stream",
          "name": "stdout",
          "text": [
            "10\n",
            "50\n",
            "[20 30 40]\n",
            "[10 20 30]\n",
            "[10 30 50]\n"
          ]
        }
      ]
    },
    {
      "cell_type": "code",
      "source": [
        "matrix=np.array([[10, 20, 30],[40, 50, 60],[70, 80, 90]])\n",
        "print(matrix[1, 2])\n",
        "print(matrix[0:3, 1])\n",
        "print(matrix[0:2,0:2])"
      ],
      "metadata": {
        "colab": {
          "base_uri": "https://localhost:8080/"
        },
        "id": "0Tl0pjhD7-sv",
        "outputId": "c58c0bfa-aab4-49be-cc19-1557239b134d"
      },
      "execution_count": 41,
      "outputs": [
        {
          "output_type": "stream",
          "name": "stdout",
          "text": [
            "60\n",
            "[20 50 80]\n",
            "[[10 20]\n",
            " [40 50]]\n"
          ]
        }
      ]
    },
    {
      "cell_type": "code",
      "source": [
        "arr=np.array([4,9,16,25,36])\n",
        "print(arr+1)\n",
        "print(arr*2)\n",
        "print(arr**2)"
      ],
      "metadata": {
        "colab": {
          "base_uri": "https://localhost:8080/"
        },
        "id": "ata7NQ8o9V5V",
        "outputId": "a4a78def-2fff-48f1-b36c-1703312546dd"
      },
      "execution_count": 45,
      "outputs": [
        {
          "output_type": "stream",
          "name": "stdout",
          "text": [
            "[ 5 10 17 26 37]\n",
            "[ 8 18 32 50 72]\n",
            "[  16   81  256  625 1296]\n"
          ]
        }
      ]
    },
    {
      "cell_type": "code",
      "source": [
        "print(np.sum(arr))\n",
        "print(np.mean(arr))\n",
        "print(np.median(arr))"
      ],
      "metadata": {
        "colab": {
          "base_uri": "https://localhost:8080/"
        },
        "id": "FORdX0Bm9yPj",
        "outputId": "7fea8a9f-bd0b-4351-ede5-d00d9d23c6e6"
      },
      "execution_count": 46,
      "outputs": [
        {
          "output_type": "stream",
          "name": "stdout",
          "text": [
            "90\n",
            "18.0\n",
            "16.0\n"
          ]
        }
      ]
    },
    {
      "cell_type": "code",
      "source": [
        "print(np.std(arr))\n",
        "print(np.var(arr))"
      ],
      "metadata": {
        "colab": {
          "base_uri": "https://localhost:8080/"
        },
        "id": "vp3fO0cy-YLr",
        "outputId": "6491cd80-4416-48fa-824f-bbc73b2cdebd"
      },
      "execution_count": 47,
      "outputs": [
        {
          "output_type": "stream",
          "name": "stdout",
          "text": [
            "11.436782764396638\n",
            "130.8\n"
          ]
        }
      ]
    },
    {
      "cell_type": "code",
      "source": [
        "print(np.min(arr))\n",
        "print(np.max(arr))"
      ],
      "metadata": {
        "colab": {
          "base_uri": "https://localhost:8080/"
        },
        "id": "DjYfXQv1-jpd",
        "outputId": "073b4b8f-66cc-4413-ce49-7d3025715f44"
      },
      "execution_count": 49,
      "outputs": [
        {
          "output_type": "stream",
          "name": "stdout",
          "text": [
            "4\n",
            "36\n"
          ]
        }
      ]
    },
    {
      "cell_type": "code",
      "source": [
        "arr=np.array([4,9,16,25,36])\n",
        "print(np.cumsum(arr))\n",
        "print(np.cumprod(arr))"
      ],
      "metadata": {
        "colab": {
          "base_uri": "https://localhost:8080/"
        },
        "id": "DyEaXc8k_B1m",
        "outputId": "f97e19df-70dc-42a0-81f8-95145154ea12"
      },
      "execution_count": 51,
      "outputs": [
        {
          "output_type": "stream",
          "name": "stdout",
          "text": [
            "[ 4 13 29 54 90]\n",
            "[     4     36    576  14400 518400]\n"
          ]
        }
      ]
    },
    {
      "cell_type": "code",
      "source": [
        "arr=np.array([10, 20, 30, 40, 50])\n",
        "bool_arr=arr % 2==0\n",
        "print(bool_arr)"
      ],
      "metadata": {
        "colab": {
          "base_uri": "https://localhost:8080/"
        },
        "id": "TpNZM51v_Yza",
        "outputId": "05aa1a5b-23aa-4abf-e265-6b3b71e6b47f"
      },
      "execution_count": 53,
      "outputs": [
        {
          "output_type": "stream",
          "name": "stdout",
          "text": [
            "[ True  True  True  True  True]\n"
          ]
        }
      ]
    },
    {
      "cell_type": "code",
      "source": [
        "filtered_arr=arr[arr>20]\n",
        "print(filtered_arr)"
      ],
      "metadata": {
        "colab": {
          "base_uri": "https://localhost:8080/"
        },
        "id": "qV6uoBWF_7Yl",
        "outputId": "28776da0-d02a-4123-978a-3bd3ebdd8810"
      },
      "execution_count": 57,
      "outputs": [
        {
          "output_type": "stream",
          "name": "stdout",
          "text": [
            "[30 40 50]\n"
          ]
        }
      ]
    },
    {
      "cell_type": "code",
      "source": [
        "arr=np.array([3, 1, 4, 1, 5, 9, 2, 6])\n",
        "sorted_arr=np.sort(arr)\n",
        "print(sorted_arr)"
      ],
      "metadata": {
        "colab": {
          "base_uri": "https://localhost:8080/"
        },
        "id": "YdFi6CBBAbr9",
        "outputId": "1b61b84d-b0f4-403b-ca66-a6507bd8896a"
      },
      "execution_count": 58,
      "outputs": [
        {
          "output_type": "stream",
          "name": "stdout",
          "text": [
            "[1 1 2 3 4 5 6 9]\n"
          ]
        }
      ]
    },
    {
      "cell_type": "code",
      "source": [
        "unique_vals=np.unique(arr)\n",
        "print(unique_vals)"
      ],
      "metadata": {
        "id": "v6MSvNRHBCaO",
        "outputId": "feb3b65b-735a-4001-9f9d-6bacb9f99590",
        "colab": {
          "base_uri": "https://localhost:8080/"
        }
      },
      "execution_count": 59,
      "outputs": [
        {
          "output_type": "stream",
          "name": "stdout",
          "text": [
            "[1 2 3 4 5 6 9]\n"
          ]
        }
      ]
    },
    {
      "cell_type": "code",
      "source": [
        "arr = np.array([10, 20, 30])\n",
        "view_arr = arr.view()\n",
        "view_arr[0] = 100\n",
        "print(arr,view_arr)\n",
        "# Deep copy\n",
        "copy_arr = arr.copy()\n",
        "copy_arr[0] = 200\n",
        "print(copy_arr)"
      ],
      "metadata": {
        "id": "xjvdJvLSBnG5",
        "outputId": "36b28980-8465-4d93-ce56-9714edbbf66e",
        "colab": {
          "base_uri": "https://localhost:8080/"
        }
      },
      "execution_count": 62,
      "outputs": [
        {
          "output_type": "stream",
          "name": "stdout",
          "text": [
            "[100  20  30] [100  20  30]\n",
            "[200  20  30]\n"
          ]
        }
      ]
    }
  ]
}